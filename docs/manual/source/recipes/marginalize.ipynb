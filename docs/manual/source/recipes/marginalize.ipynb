{
 "cells": [
  {
   "cell_type": "markdown",
   "metadata": {},
   "source": [
    "## Marginalize a combined result, instead of profiling it"
   ]
  },
  {
   "cell_type": "code",
   "execution_count": 1,
   "metadata": {},
   "outputs": [],
   "source": [
    "# Set up the path to SModelS installation folder\n",
    "import sys; sys.path.append( \".\" ); import smodels_paths"
   ]
  },
  {
   "cell_type": "code",
   "execution_count": 2,
   "metadata": {},
   "outputs": [],
   "source": [
    "from smodels.theory import slhaDecomposer\n",
    "from smodels.installation import installDirectory\n",
    "from smodels.theory.theoryPrediction import theoryPredictionsFor\n",
    "from smodels.tools.physicsUnits import fb, GeV\n",
    "from smodels.experiment.databaseObj import Database"
   ]
  },
  {
   "cell_type": "code",
   "execution_count": 3,
   "metadata": {},
   "outputs": [],
   "source": [
    "# load the official database\n",
    "database = Database(\"official\")"
   ]
  },
  {
   "cell_type": "code",
   "execution_count": 4,
   "metadata": {},
   "outputs": [],
   "source": [
    "# however filter out the aggregated CMS-SUS-16-050 result\n",
    "expResult = database.getExpResults( analysisIDs=[\"CMS-PAS-SUS-16-052-agg\"] )[0]"
   ]
  },
  {
   "cell_type": "code",
   "execution_count": 5,
   "metadata": {},
   "outputs": [
    {
     "name": "stdout",
     "output_type": "stream",
     "text": [
      "CMS-PAS-SUS-16-052-agg: ar1,ar2,ar3,ar4,ar5,ar6,ar7,ar8,ar9,ar10,ar11,ar12,ar13,ar14,ar15,ar16,ar17(17):T2bbWWoff,T6bbWWoff(2)\n"
     ]
    }
   ],
   "source": [
    "# Check: print out the experimental result\n",
    "print ( expResult )"
   ]
  },
  {
   "cell_type": "code",
   "execution_count": 6,
   "metadata": {},
   "outputs": [],
   "source": [
    "# We look at a model that has gluinos -> t t LSP\n",
    "filename=\"%s/inputFiles/slha/T2bbWWoff.slha\" % installDirectory()"
   ]
  },
  {
   "cell_type": "code",
   "execution_count": 7,
   "metadata": {
    "scrolled": true
   },
   "outputs": [
    {
     "name": "stdout",
     "output_type": "stream",
     "text": [
      "TopologyList:\n",
      "[3][3]\n",
      "\n",
      "El [[[b,c,q]],[[b,c,q]]] (MET, MET)\n",
      "El [[[b,c,q]],[[b,e+,nu]]] (MET, MET)\n",
      "El [[[b,c,q]],[[b,e-,nu]]] (MET, MET)\n",
      "El [[[b,c,q]],[[b,mu+,nu]]] (MET, MET)\n",
      "El [[[b,c,q]],[[b,mu-,nu]]] (MET, MET)\n",
      "El [[[b,c,q]],[[b,nu,ta+]]] (MET, MET)\n",
      "El [[[b,c,q]],[[b,nu,ta-]]] (MET, MET)\n",
      "El [[[b,c,q]],[[b,q,q]]] (MET, MET)\n",
      "El [[[b,e+,nu]],[[b,e-,nu]]] (MET, MET)\n",
      "El [[[b,e+,nu]],[[b,mu-,nu]]] (MET, MET)\n",
      "El [[[b,e+,nu]],[[b,nu,ta-]]] (MET, MET)\n",
      "El [[[b,e+,nu]],[[b,q,q]]] (MET, MET)\n",
      "El [[[b,e-,nu]],[[b,mu+,nu]]] (MET, MET)\n",
      "El [[[b,e-,nu]],[[b,nu,ta+]]] (MET, MET)\n",
      "El [[[b,e-,nu]],[[b,q,q]]] (MET, MET)\n",
      "El [[[b,mu+,nu]],[[b,mu-,nu]]] (MET, MET)\n",
      "El [[[b,mu+,nu]],[[b,nu,ta-]]] (MET, MET)\n",
      "El [[[b,mu+,nu]],[[b,q,q]]] (MET, MET)\n",
      "El [[[b,mu-,nu]],[[b,nu,ta+]]] (MET, MET)\n",
      "El [[[b,mu-,nu]],[[b,q,q]]] (MET, MET)\n",
      "El [[[b,nu,ta+]],[[b,nu,ta-]]] (MET, MET)\n",
      "El [[[b,nu,ta+]],[[b,q,q]]] (MET, MET)\n",
      "El [[[b,nu,ta-]],[[b,q,q]]] (MET, MET)\n",
      "El [[[b,q,q]],[[b,q,q]]] (MET, MET)\n",
      "Tx T2bbWWoff [[[b,l,nu]],[[b,jet,jet]]]\n",
      "Tx T6bbWWoff [[[b],[l,nu]],[[b],[jet,jet]]]\n",
      "Tx T2bbWWoff [[[b,l,nu]],[[b,jet,jet]]]\n",
      "Tx T6bbWWoff [[[b],[l,nu]],[[b],[jet,jet]]]\n",
      "Tx T2bbWWoff [[[b,l,nu]],[[b,jet,jet]]]\n",
      "Tx T6bbWWoff [[[b],[l,nu]],[[b],[jet,jet]]]\n",
      "Tx T2bbWWoff [[[b,l,nu]],[[b,jet,jet]]]\n",
      "Tx T6bbWWoff [[[b],[l,nu]],[[b],[jet,jet]]]\n",
      "Tx T2bbWWoff [[[b,l,nu]],[[b,jet,jet]]]\n",
      "Tx T6bbWWoff [[[b],[l,nu]],[[b],[jet,jet]]]\n",
      "Tx T2bbWWoff [[[b,l,nu]],[[b,jet,jet]]]\n",
      "Tx T6bbWWoff [[[b],[l,nu]],[[b],[jet,jet]]]\n",
      "Tx T2bbWWoff [[[b,l,nu]],[[b,jet,jet]]]\n",
      "Tx T6bbWWoff [[[b],[l,nu]],[[b],[jet,jet]]]\n",
      "Tx T2bbWWoff [[[b,l,nu]],[[b,jet,jet]]]\n",
      "Tx T6bbWWoff [[[b],[l,nu]],[[b],[jet,jet]]]\n",
      "Tx T2bbWWoff [[[b,l,nu]],[[b,jet,jet]]]\n",
      "Tx T6bbWWoff [[[b],[l,nu]],[[b],[jet,jet]]]\n",
      "Tx T2bbWWoff [[[b,l,nu]],[[b,jet,jet]]]\n",
      "Tx T6bbWWoff [[[b],[l,nu]],[[b],[jet,jet]]]\n",
      "Tx T2bbWWoff [[[b,l,nu]],[[b,jet,jet]]]\n",
      "Tx T6bbWWoff [[[b],[l,nu]],[[b],[jet,jet]]]\n",
      "Tx T2bbWWoff [[[b,l,nu]],[[b,jet,jet]]]\n",
      "Tx T6bbWWoff [[[b],[l,nu]],[[b],[jet,jet]]]\n",
      "Tx T2bbWWoff [[[b,l,nu]],[[b,jet,jet]]]\n",
      "Tx T6bbWWoff [[[b],[l,nu]],[[b],[jet,jet]]]\n",
      "Tx T2bbWWoff [[[b,l,nu]],[[b,jet,jet]]]\n",
      "Tx T6bbWWoff [[[b],[l,nu]],[[b],[jet,jet]]]\n",
      "Tx T2bbWWoff [[[b,l,nu]],[[b,jet,jet]]]\n",
      "Tx T6bbWWoff [[[b],[l,nu]],[[b],[jet,jet]]]\n",
      "Tx T2bbWWoff [[[b,l,nu]],[[b,jet,jet]]]\n",
      "Tx T6bbWWoff [[[b],[l,nu]],[[b],[jet,jet]]]\n",
      "Tx T2bbWWoff [[[b,l,nu]],[[b,jet,jet]]]\n",
      "Tx T6bbWWoff [[[b],[l,nu]],[[b],[jet,jet]]]\n"
     ]
    }
   ],
   "source": [
    "# perform the decompoistion\n",
    "topList = slhaDecomposer.decompose(filename)\n",
    "print ( topList )\n",
    "for el in topList.getElements():\n",
    "    print(\"El\",el.toStr())\n",
    "for tx in expResult.getTxNames():\n",
    "    print(\"Tx\",tx,tx.constraint)"
   ]
  },
  {
   "cell_type": "code",
   "execution_count": 8,
   "metadata": {},
   "outputs": [],
   "source": [
    "# obtain the theory predictions with marginalize=False\n",
    "predProf = theoryPredictionsFor(expResult, topList, combinedResults=True, marginalize=False ) "
   ]
  },
  {
   "cell_type": "code",
   "execution_count": 9,
   "metadata": {},
   "outputs": [
    {
     "name": "stdout",
     "output_type": "stream",
     "text": [
      "2.52843703381396\n"
     ]
    }
   ],
   "source": [
    "# print the combined upper limit\n",
    "print ( predProf[1].getUpperLimit().asNumber(fb) )"
   ]
  },
  {
   "cell_type": "code",
   "execution_count": 10,
   "metadata": {},
   "outputs": [],
   "source": [
    "# obtain the theory predictions with marginalize=True\n",
    "predMarg = theoryPredictionsFor(expResult, topList, combinedResults=True, marginalize=True )"
   ]
  },
  {
   "cell_type": "code",
   "execution_count": 11,
   "metadata": {},
   "outputs": [
    {
     "name": "stdout",
     "output_type": "stream",
     "text": [
      "2.6818125697837205\n"
     ]
    }
   ],
   "source": [
    "# print the combined upper limit\n",
    "print ( predMarg[1].getUpperLimit().asNumber(fb) )"
   ]
  },
  {
   "cell_type": "code",
   "execution_count": null,
   "metadata": {},
   "outputs": [],
   "source": []
  }
 ],
 "metadata": {
  "kernelspec": {
   "display_name": "Python 3",
   "language": "python",
   "name": "python3"
  },
  "language_info": {
   "codemirror_mode": {
    "name": "ipython",
    "version": 3
   },
   "file_extension": ".py",
   "mimetype": "text/x-python",
   "name": "python",
   "nbconvert_exporter": "python",
   "pygments_lexer": "ipython3",
   "version": "3.6.5"
  }
 },
 "nbformat": 4,
 "nbformat_minor": 2
}
