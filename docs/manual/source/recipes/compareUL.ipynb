{
 "cells": [
  {
   "cell_type": "markdown",
   "metadata": {},
   "source": [
    "# How To: Compare theory predictions with experimental limits"
   ]
  },
  {
   "cell_type": "code",
   "execution_count": 1,
   "metadata": {},
   "outputs": [],
   "source": [
    "# Set up the path to SModelS installation folder\n",
    "import sys; sys.path.append(\".\"); import smodels_paths"
   ]
  },
  {
   "cell_type": "code",
   "execution_count": 2,
   "metadata": {},
   "outputs": [],
   "source": [
    "# Import those parts of smodels that are needed for this exercise\n",
    "# (We will assume the input is a SLHA file. For LHE files, use the lheDecomposer instead)\n",
    "from smodels.share.models.mssm import BSMList\n",
    "from smodels.share.models.SMparticles import SMList\n",
    "from smodels.theory.model import Model\n",
    "from smodels.theory import decomposer\n",
    "from smodels.installation import installDirectory\n",
    "from smodels.tools.physicsUnits import fb, GeV\n",
    "from smodels.theory.theoryPrediction import theoryPredictionsFor\n",
    "from smodels.experiment.databaseObj import Database"
   ]
  },
  {
   "cell_type": "code",
   "execution_count": 3,
   "metadata": {},
   "outputs": [],
   "source": [
    "# Define the SLHA input file name\n",
    "filename=\"inputFiles/slha/gluino_squarks.slha\" \n",
    "model = Model(BSMparticles = BSMList, SMparticles = SMList)\n",
    "model.updateParticles(inputFile=filename)"
   ]
  },
  {
   "cell_type": "code",
   "execution_count": 4,
   "metadata": {},
   "outputs": [],
   "source": [
    "# Load the database, do the decomposition and compute theory predictions:\n",
    "# (Look at the theory predictions HowTo to learn how to compute theory predictions)\n",
    "database = Database(\"official\")\n",
    "expResults = database.getExpResults()\n",
    "topList = decomposer.decompose(model, sigmacut = 0.03 * fb, doCompress=True, doInvisible=True,minmassgap = 5* GeV)\n",
    "allThPredictions = [theoryPredictionsFor(exp, topList) for exp in expResults]"
   ]
  },
  {
   "cell_type": "code",
   "execution_count": 8,
   "metadata": {},
   "outputs": [
    {
     "name": "stderr",
     "output_type": "stream",
     "text": [
      "ERROR in expResultObj.getUpperLimitFor() in 232: Dataset ID (combined) not found in experimental result ATLAS-SUSY-2015-06: SR2jl,SR2jm,SR2jt,SR4jt,SR5j,SR6jm,SR6jt(7):T1,T2(2)\n",
      "ERROR in expResultObj.getUpperLimitFor() in 232: Dataset ID (combined) not found in experimental result ATLAS-SUSY-2015-06: SR2jl,SR2jm,SR2jt,SR4jt,SR5j,SR6jm,SR6jt(7):T1,T2(2)\n",
      "ERROR in expResultObj.getUpperLimitFor() in 232: Dataset ID (combined) not found in experimental result ATLAS-SUSY-2016-07:(0):T1,T2,T5WW,T5WWoff,T5WZh,T5ZZ,T6WW,T6WWoff,T6WZh(9)\n",
      "ERROR in expResultObj.getUpperLimitFor() in 232: Dataset ID (combined) not found in experimental result ATLAS-SUSY-2016-07:(0):T1,T2,T5WW,T5WWoff,T5WZh,T5ZZ,T6WW,T6WWoff,T6WZh(9)\n",
      "ERROR in expResultObj.getUpperLimitFor() in 232: Dataset ID (combined) not found in experimental result ATLAS-SUSY-2016-07:(0):T1,T2,T5WW,T5WWoff,T5WZh,T5ZZ,T6WW,T6WWoff,T6WZh(9)\n",
      "ERROR in expResultObj.getUpperLimitFor() in 232: Dataset ID (combined) not found in experimental result ATLAS-SUSY-2016-07:(0):T1,T2,T5WW,T5WWoff,T5WZh,T5ZZ,T6WW,T6WWoff,T6WZh(9)\n",
      "ERROR in expResultObj.getUpperLimitFor() in 232: Dataset ID (combined) not found in experimental result ATLAS-SUSY-2016-07:(0):T1,T2,T5WW,T5WWoff,T5WZh,T5ZZ,T6WW,T6WWoff,T6WZh(9)\n",
      "ERROR in expResultObj.getUpperLimitFor() in 232: Dataset ID (combined) not found in experimental result ATLAS-SUSY-2016-07:(0):T1,T2,T5WW,T5WWoff,T5WZh,T5ZZ,T6WW,T6WWoff,T6WZh(9)\n",
      "ERROR in expResultObj.getUpperLimitFor() in 232: Dataset ID (combined) not found in experimental result ATLAS-SUSY-2016-07:(0):T1,T2,T5WW,T5WWoff,T5WZh,T5ZZ,T6WW,T6WWoff,T6WZh(9)\n",
      "ERROR in expResultObj.getUpperLimitFor() in 232: Dataset ID (combined) not found in experimental result ATLAS-SUSY-2016-07:(0):T1,T2,T5WW,T5WWoff,T5WZh,T5ZZ,T6WW,T6WWoff,T6WZh(9)\n",
      "ERROR in expResultObj.getUpperLimitFor() in 232: Dataset ID (combined) not found in experimental result ATLAS-SUSY-2016-07: 2j_Meff_1200,2j_Meff_1600,2j_Meff_2000,2j_Meff_2100,2j_Meff_2400,2j_Meff_2800,2j_Meff_3600,3j_Meff_1300,4j_Meff_1000,4j_Meff_1400,4j_Meff_1800,4j_Meff_2200,4j_Meff_2600,4j_Meff_3000,5j_Meff_1600,5j_Meff_1700,5j_Meff_2000,5j_Meff_2600,6j_Meff_1200,6j_Meff_1800,6j_Meff_2200,6j_Meff_2600(22):T1,T2,T3GQ,T5GQ,T5WW,T5WWoff,T5ZZ,T6WW,T6WWoff,TGQ(10)\n",
      "ERROR in expResultObj.getUpperLimitFor() in 232: Dataset ID (combined) not found in experimental result ATLAS-SUSY-2016-07: 2j_Meff_1200,2j_Meff_1600,2j_Meff_2000,2j_Meff_2100,2j_Meff_2400,2j_Meff_2800,2j_Meff_3600,3j_Meff_1300,4j_Meff_1000,4j_Meff_1400,4j_Meff_1800,4j_Meff_2200,4j_Meff_2600,4j_Meff_3000,5j_Meff_1600,5j_Meff_1700,5j_Meff_2000,5j_Meff_2600,6j_Meff_1200,6j_Meff_1800,6j_Meff_2200,6j_Meff_2600(22):T1,T2,T3GQ,T5GQ,T5WW,T5WWoff,T5ZZ,T6WW,T6WWoff,TGQ(10)\n",
      "ERROR in expResultObj.getUpperLimitFor() in 232: Dataset ID (combined) not found in experimental result ATLAS-SUSY-2016-14:(0):T1ttofftt,T1tttt,T1ttttoff,T6ttWW(4)\n",
      "ERROR in expResultObj.getUpperLimitFor() in 232: Dataset ID (combined) not found in experimental result ATLAS-SUSY-2016-14:(0):T1ttofftt,T1tttt,T1ttttoff,T6ttWW(4)\n",
      "ERROR in expResultObj.getUpperLimitFor() in 232: Dataset ID (combined) not found in experimental result ATLAS-SUSY-2016-24:(0):TChiChipmSlepSlep,TChiWZ,TChipChimSlepSlep,TSlepSlep(4)\n",
      "ERROR in expResultObj.getUpperLimitFor() in 232: Dataset ID (combined) not found in experimental result ATLAS-SUSY-2016-24:(0):TChiChipmSlepSlep,TChiWZ,TChipChimSlepSlep,TSlepSlep(4)\n",
      "ERROR in expResultObj.getUpperLimitFor() in 232: Dataset ID (combined) not found in experimental result ATLAS-SUSY-2016-24: SR2-SF-loose,SR2-SF-tight,SR2-high,SR2-int,SR2-low,WZ-0Ja,WZ-0Jb,WZ-0Jc,WZ-1Ja,WZ-1Jb,WZ-1Jc(11):TSelSel,TSmuSmu,TChiWZ(3)\n",
      "ERROR in expResultObj.getUpperLimitFor() in 232: Dataset ID (combined) not found in experimental result ATLAS-SUSY-2016-24: SR2-SF-loose,SR2-SF-tight,SR2-high,SR2-int,SR2-low,WZ-0Ja,WZ-0Jb,WZ-0Jc,WZ-1Ja,WZ-1Jb,WZ-1Jc(11):TSelSel,TSmuSmu,TChiWZ(3)\n",
      "ERROR in expResultObj.getUpperLimitFor() in 232: Dataset ID (combined) not found in experimental result ATLAS-SUSY-2016-26:(0):T2cc(1)\n",
      "ERROR in expResultObj.getUpperLimitFor() in 232: Dataset ID (combined) not found in experimental result ATLAS-SUSY-2016-26:(0):T2cc(1)\n",
      "ERROR in expResultObj.getUpperLimitFor() in 232: Dataset ID (combined) not found in experimental result ATLAS-SUSY-2017-03:(0):TChiWZ(1)\n",
      "ERROR in expResultObj.getUpperLimitFor() in 232: Dataset ID (combined) not found in experimental result ATLAS-SUSY-2017-03:(0):TChiWZ(1)\n",
      "ERROR in expResultObj.getUpperLimitFor() in 232: Dataset ID (combined) not found in experimental result ATLAS-SUSY-2018-06:(0):TChiWZ,TChiWZoff(2)\n",
      "ERROR in expResultObj.getUpperLimitFor() in 232: Dataset ID (combined) not found in experimental result ATLAS-SUSY-2018-06:(0):TChiWZ,TChiWZoff(2)\n",
      "ERROR in expResultObj.getUpperLimitFor() in 232: Dataset ID (combined) not found in experimental result ATLAS-SUSY-2018-31:(0):T6bbHH(1)\n",
      "ERROR in expResultObj.getUpperLimitFor() in 232: Dataset ID (combined) not found in experimental result ATLAS-SUSY-2018-31:(0):T6bbHH(1)\n",
      "ERROR in expResultObj.getUpperLimitFor() in 232: Dataset ID (combined) not found in experimental result ATLAS-SUSY-2018-31: SRA_L,SRA_M,SRA_H,SRB,SRC_22,SRC_24,SRC_26,SRC_28(8):T6bbHH(1)\n",
      "ERROR in expResultObj.getUpperLimitFor() in 232: Dataset ID (combined) not found in experimental result ATLAS-SUSY-2018-31: SRA_L,SRA_M,SRA_H,SRB,SRC_22,SRC_24,SRC_26,SRC_28(8):T6bbHH(1)\n"
     ]
    },
    {
     "name": "stdout",
     "output_type": "stream",
     "text": [
      "\n",
      "Experimental Result: ATLAS-SUSY-2015-06 (combined-type)\n",
      "Theory prediction xsec =  4.20E-03 [pb]\n",
      "Upper limit =  None\n",
      "Expected Upper limit =  None\n",
      "\n",
      "Experimental Result: ATLAS-SUSY-2016-07 (combined-type)\n",
      "Theory prediction xsec =  7.53E-03 [pb]\n",
      "Upper limit =  None\n",
      "Expected Upper limit =  None\n",
      "\n",
      "Experimental Result: ATLAS-SUSY-2016-07 (combined-type)\n",
      "Theory prediction xsec =  4.91E-02 [pb]\n",
      "Upper limit =  None\n",
      "Expected Upper limit =  None\n",
      "\n",
      "Experimental Result: ATLAS-SUSY-2016-07 (combined-type)\n",
      "Theory prediction xsec =  1.03E-01 [pb]\n",
      "Upper limit =  None\n",
      "Expected Upper limit =  None\n",
      "\n",
      "Experimental Result: ATLAS-SUSY-2016-07 (combined-type)\n",
      "Theory prediction xsec =  1.15E-02 [pb]\n",
      "Upper limit =  None\n",
      "Expected Upper limit =  None\n",
      "\n",
      "Experimental Result: ATLAS-SUSY-2016-07 (combined-type)\n",
      "Theory prediction xsec =  9.73E-03 [pb]\n",
      "Upper limit =  None\n",
      "Expected Upper limit =  None\n",
      "\n",
      "Experimental Result: ATLAS-SUSY-2016-14 (combined-type)\n",
      "Theory prediction xsec =  3.50E-05 [pb]\n",
      "Upper limit =  None\n",
      "Expected Upper limit =  None\n",
      "\n",
      "Experimental Result: ATLAS-SUSY-2016-24 (combined-type)\n",
      "Theory prediction xsec =  3.99E-02 [pb]\n",
      "Upper limit =  None\n",
      "Expected Upper limit =  None\n",
      "\n",
      "Experimental Result: ATLAS-SUSY-2016-24 (combined-type)\n",
      "Theory prediction xsec =  7.64E-06 [pb]\n",
      "Upper limit =  None\n",
      "Expected Upper limit =  None\n",
      "\n",
      "Experimental Result: ATLAS-SUSY-2016-26 (combined-type)\n",
      "Theory prediction xsec =  2.49E-04 [pb]\n",
      "Upper limit =  None\n",
      "Expected Upper limit =  None\n",
      "\n",
      "Experimental Result: ATLAS-SUSY-2017-03 (combined-type)\n",
      "Theory prediction xsec =  3.99E-02 [pb]\n",
      "Upper limit =  None\n",
      "Expected Upper limit =  None\n",
      "\n",
      "Experimental Result: ATLAS-SUSY-2018-06 (combined-type)\n",
      "Theory prediction xsec =  3.99E-02 [pb]\n",
      "Upper limit =  None\n",
      "Expected Upper limit =  None\n",
      "\n",
      "Experimental Result: ATLAS-SUSY-2018-31 (combined-type)\n",
      "Theory prediction xsec =  2.87E-04 [pb]\n",
      "Upper limit =  None\n",
      "Expected Upper limit =  None\n",
      "\n",
      "Experimental Result: ATLAS-SUSY-2018-31 (combined-type)\n",
      "Theory prediction xsec =  2.05E-06 [pb]\n",
      "Upper limit =  None\n",
      "Expected Upper limit =  None\n"
     ]
    },
    {
     "ename": "AttributeError",
     "evalue": "'CombinedDataSet' object has no attribute 'dataInfo'",
     "output_type": "error",
     "traceback": [
      "\u001b[0;31m---------------------------------------------------------------------------\u001b[0m",
      "\u001b[0;31mAttributeError\u001b[0m                            Traceback (most recent call last)",
      "\u001b[0;32m<ipython-input-8-d0339947f96b>\u001b[0m in \u001b[0;36m<module>\u001b[0;34m\u001b[0m\n\u001b[1;32m      9\u001b[0m         \u001b[0mdataType\u001b[0m\u001b[0;34m,\u001b[0m \u001b[0mdataId\u001b[0m \u001b[0;34m=\u001b[0m \u001b[0;34m\"combined\"\u001b[0m\u001b[0;34m,\u001b[0m\u001b[0;34m\"(combined)\"\u001b[0m\u001b[0;34m\u001b[0m\u001b[0;34m\u001b[0m\u001b[0m\n\u001b[1;32m     10\u001b[0m         \u001b[0;32mif\u001b[0m \u001b[0;32mnot\u001b[0m \u001b[0mhasattr\u001b[0m \u001b[0;34m(\u001b[0m \u001b[0mtheoryPred\u001b[0m\u001b[0;34m.\u001b[0m\u001b[0mdataset\u001b[0m\u001b[0;34m,\u001b[0m \u001b[0;34m\"dataInfo\"\u001b[0m\u001b[0;34m)\u001b[0m\u001b[0;34m:\u001b[0m\u001b[0;34m\u001b[0m\u001b[0;34m\u001b[0m\u001b[0m\n\u001b[0;32m---> 11\u001b[0;31m             \u001b[0mdataType\u001b[0m \u001b[0;34m=\u001b[0m \u001b[0mtheoryPred\u001b[0m\u001b[0;34m.\u001b[0m\u001b[0mdataset\u001b[0m\u001b[0;34m.\u001b[0m\u001b[0mdataInfo\u001b[0m\u001b[0;34m.\u001b[0m\u001b[0mdataType\u001b[0m\u001b[0;34m\u001b[0m\u001b[0;34m\u001b[0m\u001b[0m\n\u001b[0m\u001b[1;32m     12\u001b[0m             \u001b[0mdataId\u001b[0m \u001b[0;34m=\u001b[0m \u001b[0mtheoryPred\u001b[0m\u001b[0;34m.\u001b[0m\u001b[0mdataset\u001b[0m\u001b[0;34m.\u001b[0m\u001b[0mdataInfo\u001b[0m\u001b[0;34m.\u001b[0m\u001b[0mdataId\u001b[0m\u001b[0;34m\u001b[0m\u001b[0;34m\u001b[0m\u001b[0m\n\u001b[1;32m     13\u001b[0m         \u001b[0mprint\u001b[0m \u001b[0;34m(\u001b[0m \u001b[0;34m\"\\nExperimental Result: %s (%s-type)\"\u001b[0m \u001b[0;34m%\u001b[0m\u001b[0;34m(\u001b[0m\u001b[0mexpID\u001b[0m\u001b[0;34m,\u001b[0m\u001b[0mdataType\u001b[0m\u001b[0;34m)\u001b[0m \u001b[0;34m)\u001b[0m \u001b[0;31m#Result ID and type\u001b[0m\u001b[0;34m\u001b[0m\u001b[0;34m\u001b[0m\u001b[0m\n",
      "\u001b[0;31mAttributeError\u001b[0m: 'CombinedDataSet' object has no attribute 'dataInfo'"
     ]
    }
   ],
   "source": [
    "# Print the value of each theory prediction for each experimental\n",
    "# result and the corresponding upper limit (see the obtain experimental upper limits HowTo to learn how\n",
    "# to compute the upper limits).\n",
    "# lso print the expected upper limit, if available\n",
    "for thPreds in allThPredictions:\n",
    "    if not thPreds: continue #skip results with no predictions\n",
    "    for theoryPred in thPreds:\n",
    "        expID = theoryPred.expResult.globalInfo.id\n",
    "        dataType, dataId = \"combined\",\"(combined)\"\n",
    "        if not hasattr ( theoryPred.dataset, \"dataInfo\"):\n",
    "            dataType = theoryPred.dataset.dataInfo.dataType\n",
    "            dataId = theoryPred.dataset.dataInfo.dataId\n",
    "        print ( \"\\nExperimental Result: %s (%s-type)\" %(expID,dataType) ) #Result ID and type \n",
    "        print ( \"Theory prediction xsec = \",theoryPred.xsection.value )#Signal xsection*efficiency*BR\n",
    "        print ( \"Upper limit = \",theoryPred.expResult.getUpperLimitFor(mass = theoryPred.mass, \n",
    "                                                              txname=theoryPred.txnames[0], \n",
    "                                                              dataID = dataId ) )\n",
    "        print ( \"Expected Upper limit = \",theoryPred.expResult.getUpperLimitFor(mass = theoryPred.mass, \n",
    "                                                              txname=theoryPred.txnames[0], \n",
    "                                                              dataID = dataId, expected= True) )"
   ]
  },
  {
   "cell_type": "code",
   "execution_count": null,
   "metadata": {},
   "outputs": [],
   "source": []
  }
 ],
 "metadata": {
  "kernelspec": {
   "display_name": "Python 3",
   "language": "python",
   "name": "python3"
  },
  "language_info": {
   "codemirror_mode": {
    "name": "ipython",
    "version": 3
   },
   "file_extension": ".py",
   "mimetype": "text/x-python",
   "name": "python",
   "nbconvert_exporter": "python",
   "pygments_lexer": "ipython3",
   "version": "3.8.6"
  }
 },
 "nbformat": 4,
 "nbformat_minor": 1
}
