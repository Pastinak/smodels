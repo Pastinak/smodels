{
 "cells": [
  {
   "cell_type": "markdown",
   "metadata": {},
   "source": [
    "# How To: Run SModelS using a parameter file"
   ]
  },
  {
   "cell_type": "code",
   "execution_count": 1,
   "metadata": {},
   "outputs": [],
   "source": [
    "# Set up the path to SModelS installation folder\n",
    "import sys; sys.path.append(\".\"); import smodels_paths"
   ]
  },
  {
   "cell_type": "code",
   "execution_count": 2,
   "metadata": {},
   "outputs": [],
   "source": [
    "# Import those parts of smodels that are needed for this exercise\n",
    "from smodels.installation import installDirectory, version\n",
    "from smodels.tools import modelTester\n",
    "from smodels.tools import crashReport\n",
    "from smodels.tools import smodelsLogging\n",
    "from smodels.tools import runtime\n",
    "from smodels import particlesLoader\n",
    "from imp import reload"
   ]
  },
  {
   "cell_type": "code",
   "execution_count": 3,
   "metadata": {},
   "outputs": [],
   "source": [
    "#Define the SLHA file name\n",
    "filename=\"inputFiles/slha/gluino_squarks.slha\"\n",
    "#Define the parameter file\n",
    "parameterFile=\"./parameters.ini\""
   ]
  },
  {
   "cell_type": "code",
   "execution_count": 4,
   "metadata": {},
   "outputs": [
    {
     "name": "stdout",
     "output_type": "stream",
     "text": [
      "options\n",
      "   checkinput = True\n",
      "   doinvisible = True\n",
      "   docompress = True\n",
      "   computestatistics = True\n",
      "   testcoverage = True\n",
      "   combinesrs = False\n",
      "particles\n",
      "   model = share.models.mssm\n",
      "parameters\n",
      "   sigmacut = 0.01\n",
      "   minmassgap = 5.\n",
      "   maxcond = 0.2\n",
      "   ncpus = 1\n",
      "database\n",
      "   path = official\n",
      "   discardzeroes = True\n",
      "   analyses = all\n",
      "   txnames = all\n",
      "   dataselector = all\n",
      "printer\n",
      "   outputtype = summary,stdout\n",
      "stdout-printer\n",
      "   printdatabase = False\n",
      "   addanainfo = False\n",
      "   printdecomp = False\n",
      "   addelementinfo = False\n",
      "   printextendedresults = False\n",
      "   addcoverageid = False\n",
      "summary-printer\n",
      "   expandedsummary = True\n",
      "python-printer\n",
      "   addelementlist = False\n",
      "   addtxweights = False\n",
      "xml-printer\n",
      "   addelementlist = False\n",
      "   addtxweights = False\n"
     ]
    }
   ],
   "source": [
    "#Read and check parameter file, exit parameterFile does not exist\n",
    "parser = modelTester.getParameters(parameterFile)\n",
    "#Display defined options:\n",
    "for section in parser.sections():\n",
    "    print(section)\n",
    "    for option in parser.options(section):\n",
    "        print('  ',option,'=',parser.get(section,option))"
   ]
  },
  {
   "cell_type": "code",
   "execution_count": 5,
   "metadata": {},
   "outputs": [],
   "source": [
    "#Change option:\n",
    "parser.set('printer','outputtype','summary')"
   ]
  },
  {
   "cell_type": "code",
   "execution_count": 6,
   "metadata": {},
   "outputs": [],
   "source": [
    "#Determine particles module from ini file, if necessary \"\"\"\n",
    "if parser.has_option(\"particles\",\"model\"):\n",
    "    runtime.modelFile = parser.get( \"particles\", \"model\" )\n",
    "    reload(particlesLoader)\n",
    "\n",
    "#Load the database defined in the parameters file, exit if not found \"\"\"\n",
    "database, databaseVersion = modelTester.loadDatabase(parser,db=None)\n",
    "listOfExpRes = modelTester.loadDatabaseResults(parser, database)"
   ]
  },
  {
   "cell_type": "code",
   "execution_count": 7,
   "metadata": {},
   "outputs": [
    {
     "name": "stderr",
     "output_type": "stream",
     "text": [
      "WARNING in printer.setOutPutFile() in 555: Removing old output file ./gluino_squarks.slha.smodels\n"
     ]
    }
   ],
   "source": [
    "#Set local dir as output folder:\n",
    "outputDir = './'\n",
    "#run SModelS with input file:\n",
    "output = modelTester.testPoint(filename, outputDir, parser, databaseVersion,listOfExpRes)"
   ]
  },
  {
   "cell_type": "markdown",
   "metadata": {},
   "source": [
    "[Download output](./gluino_squarks.slha.smodels)"
   ]
  },
  {
   "cell_type": "markdown",
   "metadata": {},
   "source": [
    "### Display output:"
   ]
  },
  {
   "cell_type": "code",
   "execution_count": null,
   "metadata": {},
   "outputs": [],
   "source": [
    "%load './gluino_squarks.slha.smodels'"
   ]
  },
  {
   "cell_type": "code",
   "execution_count": null,
   "metadata": {},
   "outputs": [],
   "source": []
  }
 ],
 "metadata": {
  "kernelspec": {
   "display_name": "Python 3",
   "language": "python",
   "name": "python3"
  },
  "language_info": {
   "codemirror_mode": {
    "name": "ipython",
    "version": 3
   },
   "file_extension": ".py",
   "mimetype": "text/x-python",
   "name": "python",
   "nbconvert_exporter": "python",
   "pygments_lexer": "ipython3",
   "version": "3.6.3"
  }
 },
 "nbformat": 4,
 "nbformat_minor": 1
}
