{
 "cells": [
  {
   "cell_type": "markdown",
   "metadata": {},
   "source": [
    "# How To: Run SModelS as a python library"
   ]
  },
  {
   "cell_type": "code",
   "execution_count": 1,
   "metadata": {},
   "outputs": [],
   "source": [
    "# Set up the path to SModelS installation folder\n",
    "import sys; sys.path.append(\".\"); import smodels_paths"
   ]
  },
  {
   "cell_type": "code",
   "execution_count": 2,
   "metadata": {},
   "outputs": [],
   "source": [
    "from imp import reload\n",
    "from smodels.tools import runtime\n",
    "from smodels import particlesLoader\n",
    "from smodels.theory import decomposer\n",
    "from smodels.tools.physicsUnits import fb, GeV, TeV\n",
    "from smodels.theory.theoryPrediction import theoryPredictionsFor\n",
    "from smodels.experiment.databaseObj import Database\n",
    "from smodels.tools import coverage\n",
    "from smodels.tools.smodelsLogging import setLogLevel\n",
    "from smodels.particlesLoader import BSMList                                                   \n",
    "from smodels.share.models.SMparticles import SMList                                           \n",
    "from smodels.theory.model import Model\n",
    "setLogLevel(\"info\")"
   ]
  },
  {
   "cell_type": "markdown",
   "metadata": {},
   "source": [
    "### Main input:"
   ]
  },
  {
   "cell_type": "code",
   "execution_count": 3,
   "metadata": {},
   "outputs": [],
   "source": [
    "#Define your model (list of rEven and rOdd particles)\n",
    "runtime.modelFile = 'smodels.share.models.mssm' \n",
    "model = Model(BSMparticles=BSMList, SMparticles=SMList)\n",
    " \n",
    "slhafile = 'inputFiles/slha/lightEWinos.slha'\n",
    "model.updateParticles ( inputFile = slhafile )"
   ]
  },
  {
   "cell_type": "markdown",
   "metadata": {},
   "source": [
    "### Decompose the input model:"
   ]
  },
  {
   "cell_type": "code",
   "execution_count": 4,
   "metadata": {},
   "outputs": [
    {
     "name": "stdout",
     "output_type": "stream",
     "text": [
      "\n",
      " Decomposition Results: \n",
      "\t  Total number of topologies: 51 \n",
      "\t  Total number of elements = 14985 \n"
     ]
    }
   ],
   "source": [
    "# Set main options for decomposition\n",
    "sigmacut = 0.01 * fb\n",
    "mingap = 5. * GeV\n",
    "# Decompose model (use slhaDecomposer for SLHA input or lheDecomposer for LHE input)\n",
    "toplist = decomposer.decompose(model, sigmacut, doCompress=True, doInvisible=True, minmassgap=mingap)\n",
    "\n",
    "# Access basic information from decomposition, using the topology list and topology objects:\n",
    "print( \"\\n Decomposition Results: \" )\n",
    "print( \"\\t  Total number of topologies: %i \" %len(toplist) )\n",
    "nel = sum([len(top.elementList) for top in toplist])\n",
    "print( \"\\t  Total number of elements = %i \" %nel )"
   ]
  },
  {
   "cell_type": "markdown",
   "metadata": {},
   "source": [
    "### Load the Database of experimental results:"
   ]
  },
  {
   "cell_type": "code",
   "execution_count": 5,
   "metadata": {},
   "outputs": [
    {
     "name": "stderr",
     "output_type": "stream",
     "text": [
      "INFO in databaseObj.loadBinaryFile() in 222: loading binary db file /home/walten/.cache/smodels/official200-beta.pcl format version 213\n",
      "INFO in databaseObj.loadBinaryFile() in 229: Loaded database from /home/walten/.cache/smodels/official200-beta.pcl in 1.5 secs.\n"
     ]
    },
    {
     "name": "stdout",
     "output_type": "stream",
     "text": [
      "\n",
      " Loaded Database with 84 UL results and 30 EM results \n"
     ]
    }
   ],
   "source": [
    "# Set the path to the database\n",
    "database = Database(\"official\")\n",
    "# Load the experimental results to be used.\n",
    "# In this case, all results are employed.\n",
    "listOfExpRes = database.getExpResults()\n",
    "\n",
    "# Print basic information about the results loaded.\n",
    "# Count the number of loaded UL and EM experimental results:\n",
    "nUL, nEM = 0, 0\n",
    "for exp in listOfExpRes:\n",
    "    # expType = exp.getValuesFor('dataType')[0]\n",
    "    expType = exp.datasets[0].dataInfo.dataType\n",
    "    if expType == 'upperLimit':\n",
    "        nUL += 1\n",
    "    elif  expType == 'efficiencyMap':\n",
    "        nEM += 1\n",
    "print(\"\\n Loaded Database with %i UL results and %i EM results \" %(nUL,nEM))"
   ]
  },
  {
   "cell_type": "markdown",
   "metadata": {},
   "source": [
    "### Match the decomposed simplified models with the experimental database of constraints:"
   ]
  },
  {
   "cell_type": "code",
   "execution_count": null,
   "metadata": {},
   "outputs": [
    {
     "name": "stdout",
     "output_type": "stream",
     "text": [
      "\n",
      " Theory Predictions and Constraints:\n",
      "\n",
      " ATLAS-SUSY-2015-06 (13 TeV)\n",
      "------------------------\n",
      "TxNames =  ['T2', 'T1']\n",
      "Theory Prediction =  5.28E-06 [pb]\n",
      "UL for theory prediction =  1.79E+00 [fb]\n",
      "r =  0.00295062967537918\n",
      "Chi2, likelihood= 2.6537778747865906 0.007168383173308842\n",
      "\n",
      " ATLAS-SUSY-2016-07 (13 TeV)\n",
      "------------------------\n",
      "TxNames =  ['T2']\n",
      "Theory Prediction =  2.54E-05 [pb]\n",
      "UL for theory prediction =  3.83E+02 [fb]\n",
      "r =  6.620539967185558e-05\n",
      "\n",
      " ATLAS-SUSY-2016-07 (13 TeV)\n",
      "------------------------\n",
      "TxNames =  ['T1', 'T2', 'TGQ', 'T5WWoff']\n",
      "Theory Prediction =  1.25E-04 [pb]\n",
      "UL for theory prediction =  1.27E+00 [fb]\n",
      "r =  0.09829040889022296\n",
      "Chi2, likelihood= 0.018825265630777466 0.0009686553349033912\n",
      "\n",
      " ATLAS-SUSY-2016-24 (13 TeV)\n",
      "------------------------\n",
      "TxNames =  ['TSlepSlep']\n",
      "Theory Prediction =  2.24E-05 [pb]\n",
      "UL for theory prediction =  2.25E+00 [fb]\n",
      "r =  0.009984620504027271\n",
      "------------------------\n",
      "TxNames =  ['TChiWZ']\n",
      "Theory Prediction =  1.61E-03 [pb]\n",
      "UL for theory prediction =  2.48E+02 [fb]\n",
      "r =  0.006493509719639897\n",
      "\n",
      " ATLAS-SUSY-2016-24 (13 TeV)\n",
      "------------------------\n",
      "TxNames =  ['TSmuSmu']\n",
      "Theory Prediction =  1.77E-06 [pb]\n",
      "UL for theory prediction =  2.90E-01 [fb]\n",
      "r =  0.006093177454663533\n",
      "Chi2, likelihood= 0.04212493718139143 0.017747368583930632\n",
      "\n",
      " ATLAS-SUSY-2017-03 (13 TeV)\n",
      "------------------------\n",
      "TxNames =  ['TChiWZ']\n",
      "Theory Prediction =  2.79E-04 [pb]\n",
      "UL for theory prediction =  1.81E+02 [fb]\n",
      "r =  0.0015451916855517044\n",
      "\n",
      " ATLAS-SUSY-2018-04 (13 TeV)\n",
      "------------------------\n",
      "TxNames =  ['TStauStau']\n",
      "Theory Prediction =  1.52E-05 [pb]\n",
      "UL for theory prediction =  2.94E+00 [fb]\n",
      "r =  0.0051756476570672585\n",
      "\n",
      " ATLAS-SUSY-2018-04 (13 TeV)\n",
      "------------------------\n",
      "TxNames =  ['TStauStau']\n",
      "Theory Prediction =  3.17E-07 [pb]\n",
      "UL for theory prediction =  5.00E-02 [fb]\n",
      "r =  0.006342636664653059\n",
      "Chi2, likelihood= 0.5597322884754021 0.013615894388696523\n",
      "------------------------\n",
      "TxNames =  ['TStauStau', 'TStauStau']\n",
      "Theory Prediction =  3.89E-07 [pb]\n",
      "UL for theory prediction =  7.21E-02 [fb]\n",
      "r =  0.0054005236327228255\n",
      "\n",
      " ATLAS-SUSY-2018-06 (13 TeV)\n",
      "------------------------\n",
      "TxNames =  ['TChiWZ']\n",
      "Theory Prediction =  2.79E-04 [pb]\n",
      "UL for theory prediction =  3.32E+02 [fb]\n",
      "r =  0.0008419793040458757\n",
      "------------------------\n",
      "TxNames =  ['TChiWZoff']\n",
      "Theory Prediction =  2.63E+00 [pb]\n",
      "UL for theory prediction =  3.80E+04 [fb]\n",
      "r =  0.06916998165275347\n",
      "\n",
      " ATLAS-SUSY-2018-32 (13 TeV)\n",
      "------------------------\n",
      "TxNames =  ['TSlepSlep']\n",
      "Theory Prediction =  1.49E-05 [pb]\n",
      "UL for theory prediction =  3.96E+00 [fb]\n",
      "r =  0.0037770012116445464\n",
      "------------------------\n",
      "TxNames =  ['TChiWW']\n",
      "Theory Prediction =  4.31E-04 [pb]\n",
      "UL for theory prediction =  1.41E+02 [fb]\n",
      "r =  0.0030443254935951635\n",
      "------------------------\n",
      "TxNames =  ['TChiWW']\n",
      "Theory Prediction =  9.27E-05 [pb]\n",
      "UL for theory prediction =  2.60E+02 [fb]\n",
      "r =  0.0003569389395863238\n",
      "\n",
      " ATLAS-SUSY-2019-08 (13 TeV)\n",
      "------------------------\n",
      "TxNames =  ['TChiWH']\n",
      "Theory Prediction =  6.10E-04 [pb]\n",
      "UL for theory prediction =  2.19E+02 [fb]\n",
      "r =  0.0027846604815104214\n"
     ]
    }
   ],
   "source": [
    "# Compute the theory predictions for each experimental result and print them:\n",
    "print(\"\\n Theory Predictions and Constraints:\")\n",
    "rmax = 0.\n",
    "bestResult = None\n",
    "for expResult in listOfExpRes:\n",
    "    predictions = theoryPredictionsFor(expResult, toplist)\n",
    "    if not predictions: continue # Skip if there are no constraints from this result\n",
    "    print('\\n %s (%i TeV)' %(expResult.globalInfo.id,expResult.globalInfo.sqrts.asNumber(TeV)))\n",
    "    for theoryPrediction in predictions:\n",
    "        dataset = theoryPrediction.dataset\n",
    "        datasetID = theoryPrediction.dataId()\n",
    "        mass = theoryPrediction.mass\n",
    "        txnames = [str(txname) for txname in theoryPrediction.txnames]\n",
    "        PIDs =  theoryPrediction.PIDs         \n",
    "        print( \"------------------------\" )\n",
    "        print( \"TxNames = \",txnames )  \n",
    "        print( \"Theory Prediction = \",theoryPrediction.xsection.value )  #Signal cross section\n",
    "        # Get the corresponding upper limit:\n",
    "        print( \"UL for theory prediction = \",theoryPrediction.upperLimit )\n",
    "        # Compute the r-value\n",
    "        r = theoryPrediction.getRValue()\n",
    "        print( \"r = \",r )\n",
    "        #Compute likelihhod and chi^2 for EM-type results:\n",
    "        if theoryPrediction.dataType() == 'efficiencyMap':\n",
    "            theoryPrediction.computeStatistics()\n",
    "            print( 'Chi2, likelihood=', theoryPrediction.chi2, theoryPrediction.likelihood )\n",
    "        if r > rmax:\n",
    "            rmax = r\n",
    "            bestResult = expResult.globalInfo.id\n",
    "\n",
    "# Print the most constraining experimental result\n",
    "print( \"\\nThe largest r-value (theory/upper limit ratio) is \",rmax )\n",
    "if rmax > 1.:\n",
    "    print( \"(The input model is likely excluded by %s)\" %bestResult )\n",
    "else:\n",
    "    print( \"(The input model is not excluded by the simplified model results)\" )"
   ]
  },
  {
   "cell_type": "markdown",
   "metadata": {},
   "source": [
    "### Check for simplified models in the input model which were not tested by the Database:"
   ]
  },
  {
   "cell_type": "code",
   "execution_count": null,
   "metadata": {},
   "outputs": [],
   "source": [
    "#Find out missing topologies for sqrts=8*TeV:             \n",
    "uncovered = coverage.Uncovered(toplist,sqrts=8.*TeV)\n",
    "#First sort coverage groups by label                                          \n",
    "groups = sorted(uncovered.groups[:], key = lambda g: g.label)\n",
    "#Print uncovered cross-sections:                             \n",
    "for group in groups:\n",
    "    print(\"\\nTotal cross-section for %s (fb): %10.3E\\n\" %(group.description,group.getTotalXSec()))\n",
    "\n",
    "missingTopos = uncovered.getGroup('missing (prompt)')\n",
    "#Print some of the missing topologies:\n",
    "if missingTopos.generalElements:\n",
    "    print('Missing topologies (up to 3):' )\n",
    "    for genEl in missingTopos.generalElements[:3]:\n",
    "        print('Element:', genEl)\n",
    "        print('\\tcross-section (fb):', genEl.missingX)\n",
    "else:\n",
    "    print(\"No missing topologies found\\n\")\n",
    "\n",
    "missingDisplaced = uncovered.getGroup('missing (displaced)')\n",
    "#Print elements with displaced decays:                              \n",
    "if missingDisplaced.generalElements:\n",
    "    print('\\nElements with displaced vertices (up to 2):' )\n",
    "    for genEl in missingDisplaced.generalElements[:2]:                                    \n",
    "        print('Element:', genEl)                                                          \n",
    "        print('\\tcross-section (fb):', genEl.missingX)                                    \n",
    "else:                                                                                     \n",
    "    print(\"\\nNo displaced decays\")"
   ]
  },
  {
   "cell_type": "code",
   "execution_count": null,
   "metadata": {},
   "outputs": [],
   "source": []
  }
 ],
 "metadata": {
  "kernelspec": {
   "display_name": "Python 3",
   "language": "python",
   "name": "python3"
  },
  "language_info": {
   "codemirror_mode": {
    "name": "ipython",
    "version": 3
   },
   "file_extension": ".py",
   "mimetype": "text/x-python",
   "name": "python",
   "nbconvert_exporter": "python",
   "pygments_lexer": "ipython3",
   "version": "3.8.6"
  }
 },
 "nbformat": 4,
 "nbformat_minor": 1
}
