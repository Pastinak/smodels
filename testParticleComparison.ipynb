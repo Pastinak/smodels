{
 "cells": [
  {
   "cell_type": "code",
   "execution_count": 1,
   "metadata": {},
   "outputs": [],
   "source": [
    "import random\n",
    "import matplotlib.pyplot as plt\n",
    "import math\n",
    "import time\n",
    "import numpy as np"
   ]
  },
  {
   "cell_type": "code",
   "execution_count": 2,
   "metadata": {},
   "outputs": [],
   "source": [
    "class Particle(object):\n",
    "    \n",
    "    def __init__(self,pid):\n",
    "        self.id = pid\n",
    "        self._equals = []\n",
    "        self._differs = []\n",
    "        \n",
    "    def __eq__(self,other):\n",
    "        return self.__cmp__(other) == 0\n",
    "    \n",
    "    def __neq__(self,other):\n",
    "        return not self == other\n",
    "    \n",
    "    def __lt__(self,other):\n",
    "        return self.__cmp__(other) == -1\n",
    "\n",
    "    def __gt__(self,other):\n",
    "        return self.__cmp__(other) == 1\n",
    "    \n",
    "    def __cmp__(self,other):\n",
    "        if other.id in self._equals:\n",
    "            return 0\n",
    "        elif other.id in self._differs:\n",
    "            return 1\n",
    "        elif -other.id in self._differs:\n",
    "            return -1\n",
    "        else:\n",
    "            cmp = random.choice([0,1,-1])\n",
    "            if cmp == 0:\n",
    "                self._equals.append(other.id)\n",
    "                other._equals.append(self.id)\n",
    "            elif cmp == 1:\n",
    "                self._differs.append(other.id)\n",
    "                other._differs.append(-self.id)\n",
    "            else:\n",
    "                self._differs.append(-other.id)\n",
    "                other._differs.append(self.id)"
   ]
  },
  {
   "cell_type": "code",
   "execution_count": 3,
   "metadata": {},
   "outputs": [],
   "source": [
    "def method_comp(N,ncomp):\n",
    "\n",
    "    #Create N particles:\n",
    "    allPtc = [Particle(pid=i) for i in range(N)]\n",
    "    for ptcA in allPtc:\n",
    "        for ptcB in allPtc:\n",
    "            x = (ptcA.__cmp__(ptcB))\n",
    "            \n",
    "    #Compare particles ncomp times:\n",
    "    iA = [random.randint(0,N-1) for n in range(ncomp)]\n",
    "    iB = [random.randint(0,N-1) for n in range(ncomp)]\n",
    "    start_time = time.time()    \n",
    "    for n in range(ncomp):\n",
    "        x = allPtc[iA[n]] == allPtc[iB[n]]\n",
    "    return(time.time()-start_time)"
   ]
  },
  {
   "cell_type": "code",
   "execution_count": 4,
   "metadata": {},
   "outputs": [],
   "source": [
    "def method_compSet(N,ncomp):\n",
    "\n",
    "    #Create N particles:\n",
    "    allPtc = [Particle(pid=i) for i in range(N)]\n",
    "    for ptcA in allPtc:        \n",
    "        for ptcB in allPtc:  \n",
    "            x = (ptcA.__cmp__(ptcB))\n",
    "            \n",
    "        ptcA._equals = set(ptcA._equals)\n",
    "        ptcA._differs = set(ptcA._differs)\n",
    "    \n",
    "    #Compare particles ncomp times:\n",
    "    iA = [random.randint(0,N-1) for n in range(ncomp)]\n",
    "    iB = [random.randint(0,N-1) for n in range(ncomp)]\n",
    "    start_time = time.time()    \n",
    "    for n in range(ncomp):\n",
    "        x = allPtc[iA[n]] == allPtc[iB[n]]\n",
    "    return(time.time()-start_time)"
   ]
  },
  {
   "cell_type": "code",
   "execution_count": 5,
   "metadata": {},
   "outputs": [],
   "source": [
    "def method_compMatrix(N,ncomp):\n",
    "\n",
    "    #Create N particles:\n",
    "    allPtc = [Particle(pid=i) for i in range(N)]\n",
    "    #Create matrix:\n",
    "    distanceMatrix = np.zeros((N,N))\n",
    "    for ptcA in allPtc:        \n",
    "        for ptcB in allPtc:\n",
    "            distanceMatrix[ptcA.id,ptcB.id] = (ptcA.__cmp__(ptcB))\n",
    "    \n",
    "    #Compare particles ncomp times:\n",
    "    iA = [random.randint(0,N-1) for n in range(ncomp)]\n",
    "    iB = [random.randint(0,N-1) for n in range(ncomp)]\n",
    "    start_time = time.time()\n",
    "    for n in range(ncomp):\n",
    "        x = distanceMatrix[allPtc[iA[n]].id,allPtc[iB[n]].id]\n",
    "    return(time.time()-start_time)"
   ]
  },
  {
   "cell_type": "code",
   "execution_count": 6,
   "metadata": {},
   "outputs": [],
   "source": [
    "def method_compMatrixList(N,ncomp):\n",
    "\n",
    "    #Create N particles:\n",
    "    allPtc = [Particle(pid=i) for i in range(N)]\n",
    "    #Create matrix:\n",
    "    distanceMatrix = np.zeros((N,N))\n",
    "    for ptcA in allPtc:        \n",
    "        for ptcB in allPtc:\n",
    "            distanceMatrix[ptcA.id,ptcB.id] = (ptcA.__cmp__(ptcB))\n",
    "    \n",
    "    distanceMatrix = distanceMatrix.tolist()\n",
    "    #Compare particles ncomp times:\n",
    "    iA = [random.randint(0,N-1) for n in range(ncomp)]\n",
    "    iB = [random.randint(0,N-1) for n in range(ncomp)]\n",
    "    start_time = time.time()    \n",
    "    for n in range(ncomp):\n",
    "        x = distanceMatrix[allPtc[iA[n]].id][allPtc[iB[n]].id]\n",
    "    return(time.time()-start_time)"
   ]
  },
  {
   "cell_type": "code",
   "execution_count": 7,
   "metadata": {},
   "outputs": [],
   "source": [
    "def method_compTag(N,ncomp):\n",
    "\n",
    "    #Create N particles:\n",
    "    allPtc = [Particle(pid=i) for i in range(N)]\n",
    "    sortedPtc = sorted(allPtc)\n",
    "    ncounter = 0\n",
    "    for i,ptc in enumerate(sortedPtc[:-1]):\n",
    "        ptc._id = ncounter\n",
    "        if sortedPtc[i+1] != ptc:\n",
    "            ncounter += 1\n",
    "    sortedPtc[-1]._id = ncounter\n",
    "    \n",
    "    #Compare particles ncomp times:\n",
    "    iA = [random.randint(0,N-1) for n in range(ncomp)]\n",
    "    iB = [random.randint(0,N-1) for n in range(ncomp)]\n",
    "    start_time = time.time()    \n",
    "    for n in range(ncomp):\n",
    "        x = allPtc[iA[n]]._id == allPtc[iB[n]]._id\n",
    "    return(time.time()-start_time)"
   ]
  },
  {
   "cell_type": "code",
   "execution_count": 12,
   "metadata": {},
   "outputs": [],
   "source": [
    "def profile():\n",
    "    time_method_A = []\n",
    "    time_method_B = []\n",
    "    time_method_C = []\n",
    "    \n",
    "    Nptc = 200\n",
    "\n",
    "    ncompList = [x for x in range(100000,5000000,500000)]\n",
    "    for ncomp in ncompList:\n",
    "        time_method_A.append(math.log10(method_compSet(Nptc,ncomp)))\n",
    "        time_method_B.append(math.log10(method_compMatrixList(Nptc,ncomp)))\n",
    "        time_method_C.append(math.log10(method_compTag(Nptc,ncomp)))\n",
    "\n",
    "    \n",
    "    rAB = np.power(10,np.array(time_method_A))/np.power(10,np.array(time_method_B))\n",
    "    rBC = np.power(10,np.array(time_method_B))/np.power(10,np.array(time_method_C))\n",
    "    rAC = np.power(10,np.array(time_method_A))/np.power(10,np.array(time_method_C))\n",
    "    plt.plot(ncompList,time_method_A,marker='o',color='r',linestyle='-',label='set (default)')\n",
    "    plt.plot(ncompList,time_method_B,marker='o',color='b',linestyle='-',label='matrix')\n",
    "    plt.plot(ncompList,time_method_C,marker='o',color='g',linestyle='-',label='ordered ids')\n",
    "    plt.xlabel('number of comparisons', fontsize=18)\n",
    "    plt.ylabel('log10(time)', fontsize=18)\n",
    "    plt.legend(loc = 'upper left')\n",
    "    plt.show()\n",
    "    plt.plot(ncompList,rAB,label='A/B')\n",
    "    plt.plot(ncompList,rBC,label='B/C')\n",
    "    plt.plot(ncompList,rAC,label='A/C')\n",
    "    plt.legend(loc = 'upper left')\n",
    "    plt.show()"
   ]
  },
  {
   "cell_type": "code",
   "execution_count": 13,
   "metadata": {},
   "outputs": [
    {
     "data": {
      "image/png": "[encoded data removed]",
      "text/plain": [
       "<Figure size 432x288 with 1 Axes>"
      ]
     },
     "metadata": {
      "needs_background": "light"
     },
     "output_type": "display_data"
    },
    {
     "data": {
      "image/png": "[encoded data removed]",
      "text/plain": [
       "<Figure size 432x288 with 1 Axes>"
      ]
     },
     "metadata": {
      "needs_background": "light"
     },
     "output_type": "display_data"
    }
   ],
   "source": [
    "profile()"
   ]
  },
  {
   "cell_type": "code",
   "execution_count": 10,
   "metadata": {},
   "outputs": [
    {
     "data": {
      "text/plain": [
       "array([1. , 2. , 1.5])"
      ]
     },
     "execution_count": 10,
     "metadata": {},
     "output_type": "execute_result"
    }
   ],
   "source": [
    "x = np.array([1.,2.,3])\n",
    "y = np.array([1.,1.,2.])\n",
    "x/y"
   ]
  },
  {
   "cell_type": "code",
   "execution_count": 11,
   "metadata": {},
   "outputs": [
    {
     "name": "stdout",
     "output_type": "stream",
     "text": [
      "False\n"
     ]
    }
   ],
   "source": [
    "x = 1\n",
    "y = 2\n",
    "print(x > y)"
   ]
  },
  {
   "cell_type": "code",
   "execution_count": null,
   "metadata": {},
   "outputs": [],
   "source": []
  }
 ],
 "metadata": {
  "kernelspec": {
   "display_name": "Python 3",
   "language": "python",
   "name": "python3"
  },
  "language_info": {
   "codemirror_mode": {
    "name": "ipython",
    "version": 3
   },
   "file_extension": ".py",
   "mimetype": "text/x-python",
   "name": "python",
   "nbconvert_exporter": "python",
   "pygments_lexer": "ipython3",
   "version": "3.6.7"
  }
 },
 "nbformat": 4,
 "nbformat_minor": 2
}
