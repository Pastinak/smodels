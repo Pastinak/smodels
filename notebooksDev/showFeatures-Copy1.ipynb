{
 "cells": [
  {
   "cell_type": "code",
   "execution_count": 1,
   "metadata": {},
   "outputs": [
    {
     "ename": "ImportError",
     "evalue": "cannot import name 'stringToGraph'",
     "output_type": "error",
     "traceback": [
      "\u001b[0;31m---------------------------------------------------------------------------\u001b[0m",
      "\u001b[0;31mImportError\u001b[0m                               Traceback (most recent call last)",
      "\u001b[0;32m<ipython-input-1-8f2429291c07>\u001b[0m in \u001b[0;36m<module>\u001b[0;34m\u001b[0m\n\u001b[1;32m      2\u001b[0m \u001b[0msys\u001b[0m\u001b[0;34m.\u001b[0m\u001b[0mpath\u001b[0m\u001b[0;34m.\u001b[0m\u001b[0mappend\u001b[0m\u001b[0;34m(\u001b[0m\u001b[0;34m'../'\u001b[0m\u001b[0;34m)\u001b[0m\u001b[0;34m\u001b[0m\u001b[0;34m\u001b[0m\u001b[0m\n\u001b[1;32m      3\u001b[0m \u001b[0;32mimport\u001b[0m \u001b[0mnetworkx\u001b[0m \u001b[0;32mas\u001b[0m \u001b[0mnx\u001b[0m\u001b[0;34m\u001b[0m\u001b[0;34m\u001b[0m\u001b[0m\n\u001b[0;32m----> 4\u001b[0;31m \u001b[0;32mfrom\u001b[0m \u001b[0msmodels\u001b[0m\u001b[0;34m.\u001b[0m\u001b[0mtheory\u001b[0m\u001b[0;34m.\u001b[0m\u001b[0mauxiliaryFunctions\u001b[0m \u001b[0;32mimport\u001b[0m \u001b[0mstringToGraph\u001b[0m\u001b[0;34m,\u001b[0m \u001b[0mfromTreeToList\u001b[0m\u001b[0;34m,\u001b[0m \u001b[0mgetTreeRoot\u001b[0m\u001b[0;34m\u001b[0m\u001b[0;34m\u001b[0m\u001b[0m\n\u001b[0m\u001b[1;32m      5\u001b[0m \u001b[0;32mimport\u001b[0m \u001b[0mmatplotlib\u001b[0m\u001b[0;34m.\u001b[0m\u001b[0mpyplot\u001b[0m \u001b[0;32mas\u001b[0m \u001b[0mplt\u001b[0m\u001b[0;34m\u001b[0m\u001b[0;34m\u001b[0m\u001b[0m\n\u001b[1;32m      6\u001b[0m \u001b[0;32mfrom\u001b[0m \u001b[0mnetworkx\u001b[0m\u001b[0;34m.\u001b[0m\u001b[0mdrawing\u001b[0m\u001b[0;34m.\u001b[0m\u001b[0mnx_agraph\u001b[0m \u001b[0;32mimport\u001b[0m \u001b[0mgraphviz_layout\u001b[0m\u001b[0;34m\u001b[0m\u001b[0;34m\u001b[0m\u001b[0m\n",
      "\u001b[0;31mImportError\u001b[0m: cannot import name 'stringToGraph'"
     ]
    }
   ],
   "source": [
    "import sys\n",
    "sys.path.append('../')\n",
    "import networkx as nx\n",
    "from smodels.theory.auxiliaryFunctions import stringToGraph, fromTreeToList, getTreeRoot\n",
    "import matplotlib.pyplot as plt\n",
    "from networkx.drawing.nx_agraph import graphviz_layout\n",
    "from smodels.theory.element import Element"
   ]
  },
  {
   "cell_type": "code",
   "execution_count": null,
   "metadata": {},
   "outputs": [],
   "source": [
    "elementStr = \"[[['e+','e-']],[['mu-'],['jet','jet'],['L']]]\"\n",
    "el = Element(info=elementStr)\n",
    "el.drawTree()"
   ]
  },
  {
   "cell_type": "code",
   "execution_count": null,
   "metadata": {},
   "outputs": [],
   "source": [
    "print(el)"
   ]
  },
  {
   "cell_type": "code",
   "execution_count": null,
   "metadata": {},
   "outputs": [],
   "source": [
    "def getList(T,node=None):\n",
    "    \"\"\"\n",
    "    Recursively compute the canonical name for the Tree T.\n",
    "    Returns the name in integer form.\n",
    "    \n",
    "    :param T: Tree (networkX DiGraph object)\n",
    "    :param node: Node to get the name for. If None, it will use the root\n",
    "    \n",
    "    :return: Integer representing the Tree\n",
    "    \"\"\"\n",
    "    \n",
    "    if not isinstance(T,nx.DiGraph):\n",
    "        raise SModelSError(\"Input must be a DiGraph object.\")\n",
    "    \n",
    "    if node is None:\n",
    "        node = getTreeRoot(T)\n",
    "\n",
    "    children = list(T[node])\n",
    "    if not children:\n",
    "        return T.nodes[node]['particle']\n",
    "    else:\n",
    "        tp = sorted([getList(T,n) for n in children if T.nodes[n]['particle'].Z2parity == 'even'])\n",
    "        return tp\n",
    "    \n",
    "# def fromBranchToL(T,node):\n",
    "    \n",
    "#     if not isinstance(T,nx.DiGraph):\n",
    "#         raise SModelSError(\"Input must be a DiGraph object.\")\n",
    "    \n",
    "#     children = list(T[node])\n",
    "#     bList = [fromVertexToL(n) for ]\n"
   ]
  },
  {
   "cell_type": "code",
   "execution_count": null,
   "metadata": {},
   "outputs": [],
   "source": [
    "elementStr = \"[[['e+',['ta+','ta-']]],[[['mu-']],['jet',['jet','jet']],['L',['e-',['e+']]]]]\"\n",
    "el = Element(info=elementStr)\n",
    "el.drawTree(nodeScale=1)"
   ]
  },
  {
   "cell_type": "code",
   "execution_count": null,
   "metadata": {},
   "outputs": [],
   "source": [
    "print(fromTreeToList(el.tree))"
   ]
  },
  {
   "cell_type": "code",
   "execution_count": null,
   "metadata": {},
   "outputs": [],
   "source": [
    "elementStr = \"[[[['ta+','ta-'],'e+']],[[['mu-']],['jet',['jet','jet']],['L',['e-',['e+']]]]]\"\n",
    "el = Element(info=elementStr)\n",
    "el.drawTree(nodeScale=1)"
   ]
  },
  {
   "cell_type": "code",
   "execution_count": null,
   "metadata": {},
   "outputs": [],
   "source": [
    "print(fromTreeToList(el.tree))"
   ]
  },
  {
   "cell_type": "code",
   "execution_count": null,
   "metadata": {},
   "outputs": [],
   "source": [
    "elementStr = \"[[[['ta+','ta-'],'e+']],[['mu-']]]\"\n",
    "g = stringToGraph(elementStr)\n",
    "el = Element(info=g)\n",
    "el.drawTree()"
   ]
  },
  {
   "cell_type": "code",
   "execution_count": null,
   "metadata": {},
   "outputs": [],
   "source": []
  },
  {
   "cell_type": "code",
   "execution_count": null,
   "metadata": {},
   "outputs": [],
   "source": []
  }
 ],
 "metadata": {
  "kernelspec": {
   "display_name": "Python 3",
   "language": "python",
   "name": "python3"
  },
  "language_info": {
   "codemirror_mode": {
    "name": "ipython",
    "version": 3
   },
   "file_extension": ".py",
   "mimetype": "text/x-python",
   "name": "python",
   "nbconvert_exporter": "python",
   "pygments_lexer": "ipython3",
   "version": "3.6.7"
  }
 },
 "nbformat": 4,
 "nbformat_minor": 2
}
